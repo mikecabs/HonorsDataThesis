{
 "cells": [
  {
   "cell_type": "code",
   "execution_count": 2,
   "metadata": {},
   "outputs": [
    {
     "name": "stdout",
     "output_type": "stream",
     "text": [
      "Requirement already satisfied: tweepy in /opt/anaconda3/lib/python3.8/site-packages (3.9.0)\n",
      "Requirement already satisfied: requests[socks]>=2.11.1 in /opt/anaconda3/lib/python3.8/site-packages (from tweepy) (2.24.0)\n",
      "Requirement already satisfied: requests-oauthlib>=0.7.0 in /opt/anaconda3/lib/python3.8/site-packages (from tweepy) (1.3.0)\n",
      "Requirement already satisfied: six>=1.10.0 in /opt/anaconda3/lib/python3.8/site-packages (from tweepy) (1.15.0)\n",
      "Requirement already satisfied: urllib3!=1.25.0,!=1.25.1,<1.26,>=1.21.1 in /opt/anaconda3/lib/python3.8/site-packages (from requests[socks]>=2.11.1->tweepy) (1.25.9)\n",
      "Requirement already satisfied: idna<3,>=2.5 in /opt/anaconda3/lib/python3.8/site-packages (from requests[socks]>=2.11.1->tweepy) (2.10)\n",
      "Requirement already satisfied: chardet<4,>=3.0.2 in /opt/anaconda3/lib/python3.8/site-packages (from requests[socks]>=2.11.1->tweepy) (3.0.4)\n",
      "Requirement already satisfied: certifi>=2017.4.17 in /opt/anaconda3/lib/python3.8/site-packages (from requests[socks]>=2.11.1->tweepy) (2020.6.20)\n",
      "Requirement already satisfied: PySocks!=1.5.7,>=1.5.6; extra == \"socks\" in /opt/anaconda3/lib/python3.8/site-packages (from requests[socks]>=2.11.1->tweepy) (1.7.1)\n",
      "Requirement already satisfied: oauthlib>=3.0.0 in /opt/anaconda3/lib/python3.8/site-packages (from requests-oauthlib>=0.7.0->tweepy) (3.1.0)\n"
     ]
    }
   ],
   "source": [
    "!pip install tweepy\n",
    "\n",
    "import numpy as np\n",
    "import tweepy\n",
    "import pickle\n",
    "import pandas as pd\n",
    "import csv\n",
    "import time"
   ]
  },
  {
   "cell_type": "code",
   "execution_count": 122,
   "metadata": {},
   "outputs": [
    {
     "data": {
      "text/html": [
       "<div>\n",
       "<style scoped>\n",
       "    .dataframe tbody tr th:only-of-type {\n",
       "        vertical-align: middle;\n",
       "    }\n",
       "\n",
       "    .dataframe tbody tr th {\n",
       "        vertical-align: top;\n",
       "    }\n",
       "\n",
       "    .dataframe thead th {\n",
       "        text-align: right;\n",
       "    }\n",
       "</style>\n",
       "<table border=\"1\" class=\"dataframe\">\n",
       "  <thead>\n",
       "    <tr style=\"text-align: right;\">\n",
       "      <th></th>\n",
       "      <th>Biden</th>\n",
       "      <th>Trump</th>\n",
       "    </tr>\n",
       "    <tr>\n",
       "      <th>Date</th>\n",
       "      <th></th>\n",
       "      <th></th>\n",
       "    </tr>\n",
       "  </thead>\n",
       "  <tbody>\n",
       "    <tr>\n",
       "      <th>2020-11-03</th>\n",
       "      <td>51.2</td>\n",
       "      <td>44.0</td>\n",
       "    </tr>\n",
       "    <tr>\n",
       "      <th>2020-11-02</th>\n",
       "      <td>51.1</td>\n",
       "      <td>44.2</td>\n",
       "    </tr>\n",
       "    <tr>\n",
       "      <th>2020-11-01</th>\n",
       "      <td>51.1</td>\n",
       "      <td>43.9</td>\n",
       "    </tr>\n",
       "    <tr>\n",
       "      <th>2020-10-31</th>\n",
       "      <td>51.3</td>\n",
       "      <td>43.5</td>\n",
       "    </tr>\n",
       "    <tr>\n",
       "      <th>2020-10-30</th>\n",
       "      <td>51.4</td>\n",
       "      <td>43.5</td>\n",
       "    </tr>\n",
       "  </tbody>\n",
       "</table>\n",
       "</div>"
      ],
      "text/plain": [
       "            Biden  Trump\n",
       "Date                    \n",
       "2020-11-03   51.2   44.0\n",
       "2020-11-02   51.1   44.2\n",
       "2020-11-01   51.1   43.9\n",
       "2020-10-31   51.3   43.5\n",
       "2020-10-30   51.4   43.5"
      ]
     },
     "execution_count": 122,
     "metadata": {},
     "output_type": "execute_result"
    }
   ],
   "source": [
    "rcp = pd.read_csv('rcp polling averages.csv')\n",
    "rcp['Date'] = pd.to_datetime(rcp['Date'])\n",
    "rcp['Date'] = rcp['Date'].apply(lambda d: d.date())\n",
    "rcp = rcp.set_index('Date')\n",
    "rcp.head()"
   ]
  },
  {
   "cell_type": "code",
   "execution_count": 141,
   "metadata": {},
   "outputs": [],
   "source": [
    "canidate_tweets = pickle.load(open( \"My Data/canidate_tweets.p\", \"rb\"))\n",
    "canidates = pickle.load(open( \"My Data/canidates.p\", \"rb\"))"
   ]
  },
  {
   "cell_type": "code",
   "execution_count": 142,
   "metadata": {},
   "outputs": [],
   "source": [
    "#IMPORTANT METRICS FOR USERS: Followers, Favorites, Tweets (including retweets)\n",
    "accounts = []\n",
    "for c in canidates:\n",
    "    account = [c.id, c.name, c.followers_count, c.favourites_count, c.statuses_count]\n",
    "    accounts.append(account)"
   ]
  },
  {
   "cell_type": "code",
   "execution_count": 143,
   "metadata": {},
   "outputs": [],
   "source": [
    "accounts = pd.DataFrame(accounts, columns=['User ID', 'Name', 'Followers', 'Favorites', 'Tweets'])\n",
    "accounts = accounts.set_index('User ID')"
   ]
  },
  {
   "cell_type": "code",
   "execution_count": 144,
   "metadata": {},
   "outputs": [
    {
     "data": {
      "text/html": [
       "<div>\n",
       "<style scoped>\n",
       "    .dataframe tbody tr th:only-of-type {\n",
       "        vertical-align: middle;\n",
       "    }\n",
       "\n",
       "    .dataframe tbody tr th {\n",
       "        vertical-align: top;\n",
       "    }\n",
       "\n",
       "    .dataframe thead th {\n",
       "        text-align: right;\n",
       "    }\n",
       "</style>\n",
       "<table border=\"1\" class=\"dataframe\">\n",
       "  <thead>\n",
       "    <tr style=\"text-align: right;\">\n",
       "      <th></th>\n",
       "      <th>Name</th>\n",
       "      <th>Followers</th>\n",
       "      <th>Favorites</th>\n",
       "      <th>Tweets</th>\n",
       "    </tr>\n",
       "    <tr>\n",
       "      <th>User ID</th>\n",
       "      <th></th>\n",
       "      <th></th>\n",
       "      <th></th>\n",
       "      <th></th>\n",
       "    </tr>\n",
       "  </thead>\n",
       "  <tbody>\n",
       "    <tr>\n",
       "      <th>939091</th>\n",
       "      <td>Joe Biden</td>\n",
       "      <td>19998880</td>\n",
       "      <td>20</td>\n",
       "      <td>6861</td>\n",
       "    </tr>\n",
       "    <tr>\n",
       "      <th>30354991</th>\n",
       "      <td>Kamala Harris</td>\n",
       "      <td>12430091</td>\n",
       "      <td>366</td>\n",
       "      <td>15284</td>\n",
       "    </tr>\n",
       "    <tr>\n",
       "      <th>803694179079458816</th>\n",
       "      <td>Kamala Harris</td>\n",
       "      <td>4214320</td>\n",
       "      <td>1088</td>\n",
       "      <td>5520</td>\n",
       "    </tr>\n",
       "    <tr>\n",
       "      <th>25073877</th>\n",
       "      <td>Donald J. Trump</td>\n",
       "      <td>88856307</td>\n",
       "      <td>6</td>\n",
       "      <td>58724</td>\n",
       "    </tr>\n",
       "    <tr>\n",
       "      <th>22203756</th>\n",
       "      <td>Mike Pence</td>\n",
       "      <td>5916316</td>\n",
       "      <td>742</td>\n",
       "      <td>12836</td>\n",
       "    </tr>\n",
       "  </tbody>\n",
       "</table>\n",
       "</div>"
      ],
      "text/plain": [
       "                               Name  Followers  Favorites  Tweets\n",
       "User ID                                                          \n",
       "939091                    Joe Biden   19998880         20    6861\n",
       "30354991              Kamala Harris   12430091        366   15284\n",
       "803694179079458816    Kamala Harris    4214320       1088    5520\n",
       "25073877            Donald J. Trump   88856307          6   58724\n",
       "22203756                 Mike Pence    5916316        742   12836"
      ]
     },
     "execution_count": 144,
     "metadata": {},
     "output_type": "execute_result"
    }
   ],
   "source": [
    "accounts.head()"
   ]
  },
  {
   "cell_type": "code",
   "execution_count": 145,
   "metadata": {},
   "outputs": [],
   "source": [
    "#IMPORTANT METRICS FOR TWEETS: ID, User ID, Time, Text, Retweets, Favorites\n",
    "tweets = []\n",
    "for c in canidate_tweets:\n",
    "    for t in c:\n",
    "        tweet = [t.id, t.user.id, t.user.name, t.user.followers_count, t.created_at, t.text, t.retweet_count, t.favorite_count]\n",
    "        tweets.append(tweet)"
   ]
  },
  {
   "cell_type": "code",
   "execution_count": 146,
   "metadata": {},
   "outputs": [],
   "source": [
    "tweets = pd.DataFrame(tweets, columns=['Tweet ID', 'User ID', 'User Name', 'Followers', 'Time', 'Text', 'Retweets', 'Favorites'])\n",
    "tweets = tweets.set_index('Tweet ID')\n",
    "tweets['Party'] = 1\n",
    "tweets.loc[tweets['User Name'] == 'Joe Biden', 'Party'] = 0\n",
    "tweets.loc[tweets['User Name'] == 'Kamala Harris', 'Party'] = 0\n",
    "tweets = tweets[tweets['Favorites']!=0]"
   ]
  },
  {
   "cell_type": "code",
   "execution_count": 147,
   "metadata": {},
   "outputs": [],
   "source": [
    "#Getting rid of all tweets after the election and before July\n",
    "tweets1 = tweets[tweets['Time'] > pd.to_datetime('20200701', format='%Y%m%d')]\n",
    "tweets1 = tweets1[tweets1['Time'] < pd.to_datetime('20201104', format='%Y%m%d')]"
   ]
  },
  {
   "cell_type": "code",
   "execution_count": 148,
   "metadata": {},
   "outputs": [
    {
     "data": {
      "text/html": [
       "<div>\n",
       "<style scoped>\n",
       "    .dataframe tbody tr th:only-of-type {\n",
       "        vertical-align: middle;\n",
       "    }\n",
       "\n",
       "    .dataframe tbody tr th {\n",
       "        vertical-align: top;\n",
       "    }\n",
       "\n",
       "    .dataframe thead th {\n",
       "        text-align: right;\n",
       "    }\n",
       "</style>\n",
       "<table border=\"1\" class=\"dataframe\">\n",
       "  <thead>\n",
       "    <tr style=\"text-align: right;\">\n",
       "      <th></th>\n",
       "      <th>User ID</th>\n",
       "      <th>User Name</th>\n",
       "      <th>Followers</th>\n",
       "      <th>Time</th>\n",
       "      <th>Text</th>\n",
       "      <th>Retweets</th>\n",
       "      <th>Favorites</th>\n",
       "      <th>Party</th>\n",
       "    </tr>\n",
       "    <tr>\n",
       "      <th>Tweet ID</th>\n",
       "      <th></th>\n",
       "      <th></th>\n",
       "      <th></th>\n",
       "      <th></th>\n",
       "      <th></th>\n",
       "      <th></th>\n",
       "      <th></th>\n",
       "      <th></th>\n",
       "    </tr>\n",
       "  </thead>\n",
       "  <tbody>\n",
       "    <tr>\n",
       "      <th>1323770935728607237</th>\n",
       "      <td>939091</td>\n",
       "      <td>Joe Biden</td>\n",
       "      <td>19998870</td>\n",
       "      <td>2020-11-03 23:36:00</td>\n",
       "      <td>As polls begin to close in certain parts of th...</td>\n",
       "      <td>17870</td>\n",
       "      <td>118004</td>\n",
       "      <td>0</td>\n",
       "    </tr>\n",
       "    <tr>\n",
       "      <th>1323761880234553346</th>\n",
       "      <td>939091</td>\n",
       "      <td>Joe Biden</td>\n",
       "      <td>19998870</td>\n",
       "      <td>2020-11-03 23:00:01</td>\n",
       "      <td>Folks, time is running out to make your voice ...</td>\n",
       "      <td>4076</td>\n",
       "      <td>39275</td>\n",
       "      <td>0</td>\n",
       "    </tr>\n",
       "    <tr>\n",
       "      <th>1323753975221522433</th>\n",
       "      <td>939091</td>\n",
       "      <td>Joe Biden</td>\n",
       "      <td>19998870</td>\n",
       "      <td>2020-11-03 22:28:36</td>\n",
       "      <td>This is our moment to prove that:\\n\\nLove is m...</td>\n",
       "      <td>25961</td>\n",
       "      <td>192593</td>\n",
       "      <td>0</td>\n",
       "    </tr>\n",
       "    <tr>\n",
       "      <th>1323747783732535300</th>\n",
       "      <td>939091</td>\n",
       "      <td>Joe Biden</td>\n",
       "      <td>19998870</td>\n",
       "      <td>2020-11-03 22:04:00</td>\n",
       "      <td>Let's win this thing, Pennsylvania! https://t....</td>\n",
       "      <td>15846</td>\n",
       "      <td>205181</td>\n",
       "      <td>0</td>\n",
       "    </tr>\n",
       "    <tr>\n",
       "      <th>1323739479069392904</th>\n",
       "      <td>939091</td>\n",
       "      <td>Joe Biden</td>\n",
       "      <td>19998870</td>\n",
       "      <td>2020-11-03 21:31:00</td>\n",
       "      <td>Who we are. What we stand for. Who we are goin...</td>\n",
       "      <td>6768</td>\n",
       "      <td>57250</td>\n",
       "      <td>0</td>\n",
       "    </tr>\n",
       "  </tbody>\n",
       "</table>\n",
       "</div>"
      ],
      "text/plain": [
       "                     User ID  User Name  Followers                Time  \\\n",
       "Tweet ID                                                                 \n",
       "1323770935728607237   939091  Joe Biden   19998870 2020-11-03 23:36:00   \n",
       "1323761880234553346   939091  Joe Biden   19998870 2020-11-03 23:00:01   \n",
       "1323753975221522433   939091  Joe Biden   19998870 2020-11-03 22:28:36   \n",
       "1323747783732535300   939091  Joe Biden   19998870 2020-11-03 22:04:00   \n",
       "1323739479069392904   939091  Joe Biden   19998870 2020-11-03 21:31:00   \n",
       "\n",
       "                                                                  Text  \\\n",
       "Tweet ID                                                                 \n",
       "1323770935728607237  As polls begin to close in certain parts of th...   \n",
       "1323761880234553346  Folks, time is running out to make your voice ...   \n",
       "1323753975221522433  This is our moment to prove that:\\n\\nLove is m...   \n",
       "1323747783732535300  Let's win this thing, Pennsylvania! https://t....   \n",
       "1323739479069392904  Who we are. What we stand for. Who we are goin...   \n",
       "\n",
       "                     Retweets  Favorites  Party  \n",
       "Tweet ID                                         \n",
       "1323770935728607237     17870     118004      0  \n",
       "1323761880234553346      4076      39275      0  \n",
       "1323753975221522433     25961     192593      0  \n",
       "1323747783732535300     15846     205181      0  \n",
       "1323739479069392904      6768      57250      0  "
      ]
     },
     "execution_count": 148,
     "metadata": {},
     "output_type": "execute_result"
    }
   ],
   "source": [
    "tweets1.head()"
   ]
  },
  {
   "cell_type": "markdown",
   "metadata": {},
   "source": [
    "Modeling Just Off Just Bidens Tweets"
   ]
  },
  {
   "cell_type": "code",
   "execution_count": 189,
   "metadata": {},
   "outputs": [],
   "source": [
    "biden = tweets1[tweets1['User Name']=='Joe Biden']"
   ]
  },
  {
   "cell_type": "code",
   "execution_count": 190,
   "metadata": {},
   "outputs": [],
   "source": [
    "biden_clean = biden.set_index('Time')\n",
    "biden_clean = biden_clean[['Retweets', 'Favorites', 'Followers']]\n",
    "biden_clean['Re/Fo'] = biden_clean['Retweets'] / biden_clean['Followers']\n",
    "biden_clean['Fa/Fo'] = biden_clean['Favorites'] / biden_clean['Followers']"
   ]
  },
  {
   "cell_type": "code",
   "execution_count": 199,
   "metadata": {},
   "outputs": [],
   "source": [
    "#Here we resample the data to aggregate it by the day\n",
    "biden_daily = biden_clean[biden_clean.columns.to_list()].resample('D').mean()"
   ]
  },
  {
   "cell_type": "code",
   "execution_count": 201,
   "metadata": {},
   "outputs": [],
   "source": [
    "polling = []\n",
    "for date in biden_daily.index:\n",
    "    polling.append(rcp.filter([date.date()],axis=0)['Biden'][0])"
   ]
  },
  {
   "cell_type": "code",
   "execution_count": 202,
   "metadata": {},
   "outputs": [],
   "source": [
    "biden_daily['RCP'] = polling"
   ]
  },
  {
   "cell_type": "code",
   "execution_count": 222,
   "metadata": {},
   "outputs": [],
   "source": [
    "X_train = biden_daily.loc[:'2020-09'].drop(['RCP'], axis = 1)\n",
    "y_train = biden_daily.loc[:'2020-09', 'RCP']\n",
    "\n",
    "X_test = biden_daily.loc['2020-10':].drop(['RCP'], axis = 1)\n",
    "y_test = biden_daily.loc['2020-10':, 'RCP']"
   ]
  },
  {
   "cell_type": "code",
   "execution_count": 223,
   "metadata": {},
   "outputs": [],
   "source": [
    "#Borrowed from https://towardsdatascience.com/time-series-modeling-using-scikit-pandas-and-numpy-682e3b8db8d1\n",
    "#Method to output important metrics of different regression techniques\n",
    "import sklearn.metrics as metrics\n",
    "def regression_results(y_true, y_pred):\n",
    "    # Regression metrics\n",
    "    explained_variance=metrics.explained_variance_score(y_true, y_pred)\n",
    "    mean_absolute_error=metrics.mean_absolute_error(y_true, y_pred) \n",
    "    mse=metrics.mean_squared_error(y_true, y_pred) \n",
    "    mean_squared_log_error=metrics.mean_squared_log_error(y_true, y_pred)\n",
    "    median_absolute_error=metrics.median_absolute_error(y_true, y_pred)\n",
    "    r2=metrics.r2_score(y_true, y_pred)\n",
    "    print('explained_variance: ', round(explained_variance,4))    \n",
    "    print('mean_squared_log_error: ', round(mean_squared_log_error,4))\n",
    "    print('r2: ', round(r2,4))\n",
    "    print('MAE: ', round(mean_absolute_error,4))\n",
    "    print('MSE: ', round(mse,4))\n",
    "    print('RMSE: ', round(np.sqrt(mse),4))"
   ]
  },
  {
   "cell_type": "code",
   "execution_count": 224,
   "metadata": {},
   "outputs": [
    {
     "name": "stdout",
     "output_type": "stream",
     "text": [
      "LR:\n",
      "explained_variance:  -0.2429\n",
      "mean_squared_log_error:  0.0008\n",
      "r2:  -8.8828\n",
      "MAE:  1.3732\n",
      "MSE:  2.1569\n",
      "RMSE:  1.4686\n",
      "SVR:\n",
      "explained_variance:  0.0\n",
      "mean_squared_log_error:  0.001\n",
      "r2:  -10.8421\n",
      "MAE:  1.5383\n",
      "MSE:  2.5845\n",
      "RMSE:  1.6076\n",
      "KNN:\n",
      "explained_variance:  -0.1517\n",
      "mean_squared_log_error:  0.0009\n",
      "r2:  -9.6763\n",
      "MAE:  1.4418\n",
      "MSE:  2.33\n",
      "RMSE:  1.5264\n",
      "DT:\n",
      "explained_variance:  -0.4369\n",
      "mean_squared_log_error:  0.0007\n",
      "r2:  -7.4956\n",
      "MAE:  1.2412\n",
      "MSE:  1.8541\n",
      "RMSE:  1.3617\n",
      "RF:\n",
      "explained_variance:  -0.2024\n",
      "mean_squared_log_error:  0.0008\n",
      "r2:  -8.5037\n",
      "MAE:  1.346\n",
      "MSE:  2.0741\n",
      "RMSE:  1.4402\n",
      "NN:\n",
      "explained_variance:  -0.3276\n",
      "mean_squared_log_error:  0.0009\n",
      "r2:  -9.4364\n",
      "MAE:  1.4099\n",
      "MSE:  2.2777\n",
      "RMSE:  1.5092\n"
     ]
    }
   ],
   "source": [
    "# machine learning\n",
    "from sklearn.linear_model import LinearRegression\n",
    "from sklearn.svm import SVR\n",
    "from sklearn.neighbors import KNeighborsRegressor\n",
    "from sklearn.tree import DecisionTreeRegressor\n",
    "from sklearn.ensemble import RandomForestRegressor\n",
    "from sklearn.neural_network import MLPRegressor\n",
    "\n",
    "models = []\n",
    "models.append(('LR', LinearRegression()))\n",
    "models.append(('SVR', SVR()))\n",
    "models.append(('KNN', KNeighborsRegressor())) \n",
    "models.append(('DT', DecisionTreeRegressor())) \n",
    "models.append(('RF', RandomForestRegressor())) # Ensemble method - collection of many decision trees\n",
    "models.append(('NN', MLPRegressor(solver = 'lbfgs')))  #neural network\n",
    "\n",
    "names = []\n",
    "outputs = []\n",
    "# Evaluate each model in turn\n",
    "for name, model in models:\n",
    "    names.append(name)\n",
    "    model.fit(X_train, y_train)\n",
    "    y_pred = model.predict(X_test)\n",
    "    outputs.append(y_pred)\n",
    "    print('%s:' % (name))\n",
    "    regression_results(y_test, y_pred)"
   ]
  },
  {
   "cell_type": "code",
   "execution_count": 225,
   "metadata": {},
   "outputs": [],
   "source": [
    "from matplotlib import pyplot as plt"
   ]
  },
  {
   "cell_type": "code",
   "execution_count": 231,
   "metadata": {},
   "outputs": [
    {
     "data": {
      "image/png": "[encoded data removed]",
      "text/plain": [
       "<Figure size 432x288 with 1 Axes>"
      ]
     },
     "metadata": {
      "needs_background": "light"
     },
     "output_type": "display_data"
    }
   ],
   "source": [
    "plt.plot(biden_daily['RCP'])\n",
    "plt.plot(X_test.index, outputs[3]);"
   ]
  },
  {
   "cell_type": "code",
   "execution_count": null,
   "metadata": {},
   "outputs": [],
   "source": []
  }
 ],
 "metadata": {
  "kernelspec": {
   "display_name": "Python 3",
   "language": "python",
   "name": "python3"
  },
  "language_info": {
   "codemirror_mode": {
    "name": "ipython",
    "version": 3
   },
   "file_extension": ".py",
   "mimetype": "text/x-python",
   "name": "python",
   "nbconvert_exporter": "python",
   "pygments_lexer": "ipython3",
   "version": "3.8.3"
  }
 },
 "nbformat": 4,
 "nbformat_minor": 4
}
