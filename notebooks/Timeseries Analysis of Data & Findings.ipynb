{
 "cells": [
  {
   "cell_type": "code",
   "execution_count": null,
   "metadata": {
    "scrolled": true
   },
   "outputs": [],
   "source": [
    "!pip install tweepy\n",
    "\n",
    "import numpy as np\n",
    "import tweepy\n",
    "import pickle\n",
    "import pandas as pd\n",
    "import csv\n",
    "import time\n",
    "from matplotlib import pyplot as plt\n",
    "import seaborn as sns"
   ]
  },
  {
   "cell_type": "markdown",
   "metadata": {},
   "source": [
    "## Loading the Polling Data"
   ]
  },
  {
   "cell_type": "code",
   "execution_count": 2,
   "metadata": {},
   "outputs": [
    {
     "data": {
      "text/html": [
       "<div>\n",
       "<style scoped>\n",
       "    .dataframe tbody tr th:only-of-type {\n",
       "        vertical-align: middle;\n",
       "    }\n",
       "\n",
       "    .dataframe tbody tr th {\n",
       "        vertical-align: top;\n",
       "    }\n",
       "\n",
       "    .dataframe thead th {\n",
       "        text-align: right;\n",
       "    }\n",
       "</style>\n",
       "<table border=\"1\" class=\"dataframe\">\n",
       "  <thead>\n",
       "    <tr style=\"text-align: right;\">\n",
       "      <th></th>\n",
       "      <th>Biden</th>\n",
       "      <th>Trump</th>\n",
       "      <th>Diff</th>\n",
       "    </tr>\n",
       "    <tr>\n",
       "      <th>Date</th>\n",
       "      <th></th>\n",
       "      <th></th>\n",
       "      <th></th>\n",
       "    </tr>\n",
       "  </thead>\n",
       "  <tbody>\n",
       "    <tr>\n",
       "      <th>2020-11-03</th>\n",
       "      <td>51.2</td>\n",
       "      <td>44.0</td>\n",
       "      <td>7.2</td>\n",
       "    </tr>\n",
       "    <tr>\n",
       "      <th>2020-11-02</th>\n",
       "      <td>51.1</td>\n",
       "      <td>44.2</td>\n",
       "      <td>6.9</td>\n",
       "    </tr>\n",
       "    <tr>\n",
       "      <th>2020-11-01</th>\n",
       "      <td>51.1</td>\n",
       "      <td>43.9</td>\n",
       "      <td>7.2</td>\n",
       "    </tr>\n",
       "    <tr>\n",
       "      <th>2020-10-31</th>\n",
       "      <td>51.3</td>\n",
       "      <td>43.5</td>\n",
       "      <td>7.8</td>\n",
       "    </tr>\n",
       "    <tr>\n",
       "      <th>2020-10-30</th>\n",
       "      <td>51.4</td>\n",
       "      <td>43.5</td>\n",
       "      <td>7.9</td>\n",
       "    </tr>\n",
       "  </tbody>\n",
       "</table>\n",
       "</div>"
      ],
      "text/plain": [
       "            Biden  Trump  Diff\n",
       "Date                          \n",
       "2020-11-03   51.2   44.0   7.2\n",
       "2020-11-02   51.1   44.2   6.9\n",
       "2020-11-01   51.1   43.9   7.2\n",
       "2020-10-31   51.3   43.5   7.8\n",
       "2020-10-30   51.4   43.5   7.9"
      ]
     },
     "execution_count": 2,
     "metadata": {},
     "output_type": "execute_result"
    }
   ],
   "source": [
    "rcp = pd.read_csv('rcp polling averages.csv')\n",
    "rcp['Date'] = pd.to_datetime(rcp['Date'])\n",
    "rcp['Date'] = rcp['Date'].apply(lambda d: d.date())\n",
    "rcp = rcp.set_index('Date')\n",
    "rcp['Diff'] = rcp['Biden'] - rcp['Trump']\n",
    "rcp.head()"
   ]
  },
  {
   "cell_type": "markdown",
   "metadata": {},
   "source": [
    "## Loading and Preparing the Candidates' Tweet Data"
   ]
  },
  {
   "cell_type": "code",
   "execution_count": 3,
   "metadata": {},
   "outputs": [],
   "source": [
    "candidate_tweets = pickle.load(open( \"My Data/canidate_tweets.p\", \"rb\"))"
   ]
  },
  {
   "cell_type": "code",
   "execution_count": 199,
   "metadata": {},
   "outputs": [],
   "source": [
    "#Recording the important metrics for tweets: ID, User ID, Time, Text, Retweets, Favorites\n",
    "tweets = []\n",
    "for c in candidate_tweets:\n",
    "    for t in c:\n",
    "        tweet = [t.id, t.user.name, t.user.followers_count, t.created_at, t.text, t.retweet_count, t.favorite_count]\n",
    "        if tweet[1] == 'Joe Biden' or tweet[1] == 'Donald J. Trump':\n",
    "            tweets.append(tweet)"
   ]
  },
  {
   "cell_type": "code",
   "execution_count": 200,
   "metadata": {},
   "outputs": [],
   "source": [
    "tweets = pd.DataFrame(tweets, columns=['Tweet ID', 'User Name', 'Followers', 'Time', 'Text', 'Retweets', 'Favorites'])\n",
    "tweets = tweets.set_index('Tweet ID')\n",
    "#Retweets have a favorite value of 0 so we won't use them\n",
    "tweets = tweets[tweets['Favorites']!=0]"
   ]
  },
  {
   "cell_type": "code",
   "execution_count": 201,
   "metadata": {},
   "outputs": [],
   "source": [
    "#Getting rid of all tweets after the election and before 8 weeks before the election\n",
    "tweets = tweets[tweets['Time'] > pd.to_datetime('20201014', format='%Y%m%d')]\n",
    "tweets = tweets[tweets['Time'] < pd.to_datetime('20201104', format='%Y%m%d')]"
   ]
  },
  {
   "cell_type": "code",
   "execution_count": 202,
   "metadata": {},
   "outputs": [
    {
     "data": {
      "text/html": [
       "<div>\n",
       "<style scoped>\n",
       "    .dataframe tbody tr th:only-of-type {\n",
       "        vertical-align: middle;\n",
       "    }\n",
       "\n",
       "    .dataframe tbody tr th {\n",
       "        vertical-align: top;\n",
       "    }\n",
       "\n",
       "    .dataframe thead th {\n",
       "        text-align: right;\n",
       "    }\n",
       "</style>\n",
       "<table border=\"1\" class=\"dataframe\">\n",
       "  <thead>\n",
       "    <tr style=\"text-align: right;\">\n",
       "      <th></th>\n",
       "      <th>User Name</th>\n",
       "      <th>Followers</th>\n",
       "      <th>Time</th>\n",
       "      <th>Text</th>\n",
       "      <th>Retweets</th>\n",
       "      <th>Favorites</th>\n",
       "    </tr>\n",
       "    <tr>\n",
       "      <th>Tweet ID</th>\n",
       "      <th></th>\n",
       "      <th></th>\n",
       "      <th></th>\n",
       "      <th></th>\n",
       "      <th></th>\n",
       "      <th></th>\n",
       "    </tr>\n",
       "  </thead>\n",
       "  <tbody>\n",
       "    <tr>\n",
       "      <th>1323770935728607237</th>\n",
       "      <td>Joe Biden</td>\n",
       "      <td>19998870</td>\n",
       "      <td>2020-11-03 23:36:00</td>\n",
       "      <td>As polls begin to close in certain parts of th...</td>\n",
       "      <td>17870</td>\n",
       "      <td>118004</td>\n",
       "    </tr>\n",
       "    <tr>\n",
       "      <th>1323761880234553346</th>\n",
       "      <td>Joe Biden</td>\n",
       "      <td>19998870</td>\n",
       "      <td>2020-11-03 23:00:01</td>\n",
       "      <td>Folks, time is running out to make your voice ...</td>\n",
       "      <td>4076</td>\n",
       "      <td>39275</td>\n",
       "    </tr>\n",
       "    <tr>\n",
       "      <th>1323753975221522433</th>\n",
       "      <td>Joe Biden</td>\n",
       "      <td>19998870</td>\n",
       "      <td>2020-11-03 22:28:36</td>\n",
       "      <td>This is our moment to prove that:\\n\\nLove is m...</td>\n",
       "      <td>25961</td>\n",
       "      <td>192593</td>\n",
       "    </tr>\n",
       "    <tr>\n",
       "      <th>1323747783732535300</th>\n",
       "      <td>Joe Biden</td>\n",
       "      <td>19998870</td>\n",
       "      <td>2020-11-03 22:04:00</td>\n",
       "      <td>Let's win this thing, Pennsylvania! https://t....</td>\n",
       "      <td>15846</td>\n",
       "      <td>205181</td>\n",
       "    </tr>\n",
       "    <tr>\n",
       "      <th>1323739479069392904</th>\n",
       "      <td>Joe Biden</td>\n",
       "      <td>19998870</td>\n",
       "      <td>2020-11-03 21:31:00</td>\n",
       "      <td>Who we are. What we stand for. Who we are goin...</td>\n",
       "      <td>6768</td>\n",
       "      <td>57250</td>\n",
       "    </tr>\n",
       "  </tbody>\n",
       "</table>\n",
       "</div>"
      ],
      "text/plain": [
       "                     User Name  Followers                Time  \\\n",
       "Tweet ID                                                        \n",
       "1323770935728607237  Joe Biden   19998870 2020-11-03 23:36:00   \n",
       "1323761880234553346  Joe Biden   19998870 2020-11-03 23:00:01   \n",
       "1323753975221522433  Joe Biden   19998870 2020-11-03 22:28:36   \n",
       "1323747783732535300  Joe Biden   19998870 2020-11-03 22:04:00   \n",
       "1323739479069392904  Joe Biden   19998870 2020-11-03 21:31:00   \n",
       "\n",
       "                                                                  Text  \\\n",
       "Tweet ID                                                                 \n",
       "1323770935728607237  As polls begin to close in certain parts of th...   \n",
       "1323761880234553346  Folks, time is running out to make your voice ...   \n",
       "1323753975221522433  This is our moment to prove that:\\n\\nLove is m...   \n",
       "1323747783732535300  Let's win this thing, Pennsylvania! https://t....   \n",
       "1323739479069392904  Who we are. What we stand for. Who we are goin...   \n",
       "\n",
       "                     Retweets  Favorites  \n",
       "Tweet ID                                  \n",
       "1323770935728607237     17870     118004  \n",
       "1323761880234553346      4076      39275  \n",
       "1323753975221522433     25961     192593  \n",
       "1323747783732535300     15846     205181  \n",
       "1323739479069392904      6768      57250  "
      ]
     },
     "execution_count": 202,
     "metadata": {},
     "output_type": "execute_result"
    }
   ],
   "source": [
    "tweets.head()"
   ]
  },
  {
   "cell_type": "code",
   "execution_count": 203,
   "metadata": {},
   "outputs": [],
   "source": [
    "tweets_b = tweets[tweets['User Name']=='Joe Biden']\n",
    "tweets_t = tweets[tweets['User Name']=='Donald J. Trump']\n",
    "\n",
    "tweets_b = tweets_b.set_index('Time')\n",
    "tweets_b = tweets_b[['Retweets', 'Favorites', 'Followers']]\n",
    "tweets_b['Biden Re/Fo'] = tweets_b['Retweets'] / tweets_b['Followers']\n",
    "tweets_b['Biden Fa/Fo'] = tweets_b['Favorites'] / tweets_b['Followers']\n",
    "\n",
    "tweets_t = tweets_t.set_index('Time')\n",
    "tweets_t = tweets_t[['Retweets', 'Favorites', 'Followers']]\n",
    "tweets_t['Trump Re/Fo'] = tweets_t['Retweets'] / tweets_t['Followers']\n",
    "tweets_t['Trump Fa/Fo'] = tweets_t['Favorites'] / tweets_t['Followers']"
   ]
  },
  {
   "cell_type": "code",
   "execution_count": 204,
   "metadata": {},
   "outputs": [],
   "source": [
    "tweets_b = tweets_b[tweets_b.columns.to_list()].resample('D').mean()\n",
    "tweets_t = tweets_t[tweets_t.columns.to_list()].resample('D').mean()"
   ]
  },
  {
   "cell_type": "code",
   "execution_count": 205,
   "metadata": {},
   "outputs": [],
   "source": [
    "tweets_b = tweets_b[['Biden Re/Fo', 'Biden Fa/Fo']]\n",
    "tweets_t = tweets_t[['Trump Re/Fo', 'Trump Fa/Fo']]"
   ]
  },
  {
   "cell_type": "code",
   "execution_count": 206,
   "metadata": {},
   "outputs": [
    {
     "name": "stdout",
     "output_type": "stream",
     "text": [
      "1181 Total Tweets\n"
     ]
    },
    {
     "data": {
      "text/html": [
       "<div>\n",
       "<style scoped>\n",
       "    .dataframe tbody tr th:only-of-type {\n",
       "        vertical-align: middle;\n",
       "    }\n",
       "\n",
       "    .dataframe tbody tr th {\n",
       "        vertical-align: top;\n",
       "    }\n",
       "\n",
       "    .dataframe thead th {\n",
       "        text-align: right;\n",
       "    }\n",
       "</style>\n",
       "<table border=\"1\" class=\"dataframe\">\n",
       "  <thead>\n",
       "    <tr style=\"text-align: right;\">\n",
       "      <th></th>\n",
       "      <th>Biden Re/Fo</th>\n",
       "      <th>Biden Fa/Fo</th>\n",
       "    </tr>\n",
       "    <tr>\n",
       "      <th>Time</th>\n",
       "      <th></th>\n",
       "      <th></th>\n",
       "    </tr>\n",
       "  </thead>\n",
       "  <tbody>\n",
       "    <tr>\n",
       "      <th>2020-10-14</th>\n",
       "      <td>0.000872</td>\n",
       "      <td>0.005623</td>\n",
       "    </tr>\n",
       "    <tr>\n",
       "      <th>2020-10-15</th>\n",
       "      <td>0.000599</td>\n",
       "      <td>0.003900</td>\n",
       "    </tr>\n",
       "    <tr>\n",
       "      <th>2020-10-16</th>\n",
       "      <td>0.000605</td>\n",
       "      <td>0.003968</td>\n",
       "    </tr>\n",
       "    <tr>\n",
       "      <th>2020-10-17</th>\n",
       "      <td>0.000779</td>\n",
       "      <td>0.003792</td>\n",
       "    </tr>\n",
       "    <tr>\n",
       "      <th>2020-10-18</th>\n",
       "      <td>0.000589</td>\n",
       "      <td>0.003216</td>\n",
       "    </tr>\n",
       "  </tbody>\n",
       "</table>\n",
       "</div>"
      ],
      "text/plain": [
       "            Biden Re/Fo  Biden Fa/Fo\n",
       "Time                                \n",
       "2020-10-14     0.000872     0.005623\n",
       "2020-10-15     0.000599     0.003900\n",
       "2020-10-16     0.000605     0.003968\n",
       "2020-10-17     0.000779     0.003792\n",
       "2020-10-18     0.000589     0.003216"
      ]
     },
     "execution_count": 206,
     "metadata": {},
     "output_type": "execute_result"
    }
   ],
   "source": [
    "print(str(len(tweets))+\" Total Tweets\")\n",
    "tweets_b.head()"
   ]
  },
  {
   "cell_type": "markdown",
   "metadata": {},
   "source": [
    "## Loading and Preparing Scraped Tweets\n",
    "\n",
    "These tweets were scraped looking for \"#DonaldTrump\", \"#Trump\", \"#JoeBiden\", \"#Biden\". "
   ]
  },
  {
   "cell_type": "code",
   "execution_count": null,
   "metadata": {},
   "outputs": [],
   "source": [
    "biden = pd.read_csv('Manch Hui Dataset/hashtag_joebiden.csv')"
   ]
  },
  {
   "cell_type": "code",
   "execution_count": 13,
   "metadata": {},
   "outputs": [],
   "source": [
    "trump = pd.read_csv('Manch Hui Dataset/hashtag_donaldtrump.csv', engine='python')"
   ]
  },
  {
   "cell_type": "code",
   "execution_count": 14,
   "metadata": {},
   "outputs": [],
   "source": [
    "#Cleaning the data\n",
    "biden['temp'] = biden['created_at'].apply(lambda x: len(x))\n",
    "trump['temp'] = trump['created_at'].apply(lambda x: len(x))\n",
    "biden = biden[biden['temp']==19]\n",
    "trump = trump[trump['temp']==19]\n",
    "biden = biden.drop(columns='temp')\n",
    "trump = trump.drop(columns='temp')"
   ]
  },
  {
   "cell_type": "code",
   "execution_count": 15,
   "metadata": {},
   "outputs": [],
   "source": [
    "biden['created_at'] = pd.to_datetime(biden['created_at'])\n",
    "trump['created_at'] = pd.to_datetime(trump['created_at'])"
   ]
  },
  {
   "cell_type": "code",
   "execution_count": 16,
   "metadata": {},
   "outputs": [],
   "source": [
    "#Getting tweets only in the eight week period\n",
    "biden = biden[biden['created_at'] > pd.to_datetime('20200908', format='%Y%m%d')]\n",
    "biden = biden[biden['created_at'] < pd.to_datetime('20201104', format='%Y%m%d')]\n",
    "trump = trump[trump['created_at'] > pd.to_datetime('20200908', format='%Y%m%d')]\n",
    "trump = trump[trump['created_at'] < pd.to_datetime('20201104', format='%Y%m%d')]"
   ]
  },
  {
   "cell_type": "code",
   "execution_count": 17,
   "metadata": {},
   "outputs": [],
   "source": [
    "biden = biden[['created_at', 'tweet_id', 'tweet', 'likes', 'retweet_count', 'user_followers_count']]\n",
    "biden = biden.set_index('tweet_id')\n",
    "trump = trump[['created_at', 'tweet_id', 'tweet', 'likes', 'retweet_count', 'user_followers_count']]\n",
    "trump = trump.set_index('tweet_id')"
   ]
  },
  {
   "cell_type": "code",
   "execution_count": 18,
   "metadata": {
    "scrolled": true
   },
   "outputs": [
    {
     "name": "stdout",
     "output_type": "stream",
     "text": [
      "884391 Total Tweets\n"
     ]
    },
    {
     "data": {
      "text/html": [
       "<div>\n",
       "<style scoped>\n",
       "    .dataframe tbody tr th:only-of-type {\n",
       "        vertical-align: middle;\n",
       "    }\n",
       "\n",
       "    .dataframe tbody tr th {\n",
       "        vertical-align: top;\n",
       "    }\n",
       "\n",
       "    .dataframe thead th {\n",
       "        text-align: right;\n",
       "    }\n",
       "</style>\n",
       "<table border=\"1\" class=\"dataframe\">\n",
       "  <thead>\n",
       "    <tr style=\"text-align: right;\">\n",
       "      <th></th>\n",
       "      <th>created_at</th>\n",
       "      <th>tweet</th>\n",
       "      <th>likes</th>\n",
       "      <th>retweet_count</th>\n",
       "      <th>user_followers_count</th>\n",
       "    </tr>\n",
       "    <tr>\n",
       "      <th>tweet_id</th>\n",
       "      <th></th>\n",
       "      <th></th>\n",
       "      <th></th>\n",
       "      <th></th>\n",
       "      <th></th>\n",
       "    </tr>\n",
       "  </thead>\n",
       "  <tbody>\n",
       "    <tr>\n",
       "      <th>1.316529221557252e+18</th>\n",
       "      <td>2020-10-15 00:00:01</td>\n",
       "      <td>#Elecciones2020 | En #Florida: #JoeBiden dice ...</td>\n",
       "      <td>0.0</td>\n",
       "      <td>0.0</td>\n",
       "      <td>1860.0</td>\n",
       "    </tr>\n",
       "    <tr>\n",
       "      <th>1.31652929585929e+18</th>\n",
       "      <td>2020-10-15 00:00:18</td>\n",
       "      <td>#HunterBiden #HunterBidenEmails #JoeBiden #Joe...</td>\n",
       "      <td>0.0</td>\n",
       "      <td>0.0</td>\n",
       "      <td>6628.0</td>\n",
       "    </tr>\n",
       "    <tr>\n",
       "      <th>1.3165293050069524e+18</th>\n",
       "      <td>2020-10-15 00:00:20</td>\n",
       "      <td>@IslandGirlPRV @BradBeauregardJ @MeidasTouch T...</td>\n",
       "      <td>0.0</td>\n",
       "      <td>0.0</td>\n",
       "      <td>1536.0</td>\n",
       "    </tr>\n",
       "    <tr>\n",
       "      <th>1.3165293080815575e+18</th>\n",
       "      <td>2020-10-15 00:00:21</td>\n",
       "      <td>@chrislongview Watching and setting dvr. Let’s...</td>\n",
       "      <td>0.0</td>\n",
       "      <td>0.0</td>\n",
       "      <td>27.0</td>\n",
       "    </tr>\n",
       "    <tr>\n",
       "      <th>1.316529312741253e+18</th>\n",
       "      <td>2020-10-15 00:00:22</td>\n",
       "      <td>#censorship #HunterBiden #Biden #BidenEmails #...</td>\n",
       "      <td>1.0</td>\n",
       "      <td>0.0</td>\n",
       "      <td>390.0</td>\n",
       "    </tr>\n",
       "  </tbody>\n",
       "</table>\n",
       "</div>"
      ],
      "text/plain": [
       "                                created_at  \\\n",
       "tweet_id                                     \n",
       "1.316529221557252e+18  2020-10-15 00:00:01   \n",
       "1.31652929585929e+18   2020-10-15 00:00:18   \n",
       "1.3165293050069524e+18 2020-10-15 00:00:20   \n",
       "1.3165293080815575e+18 2020-10-15 00:00:21   \n",
       "1.316529312741253e+18  2020-10-15 00:00:22   \n",
       "\n",
       "                                                                    tweet  \\\n",
       "tweet_id                                                                    \n",
       "1.316529221557252e+18   #Elecciones2020 | En #Florida: #JoeBiden dice ...   \n",
       "1.31652929585929e+18    #HunterBiden #HunterBidenEmails #JoeBiden #Joe...   \n",
       "1.3165293050069524e+18  @IslandGirlPRV @BradBeauregardJ @MeidasTouch T...   \n",
       "1.3165293080815575e+18  @chrislongview Watching and setting dvr. Let’s...   \n",
       "1.316529312741253e+18   #censorship #HunterBiden #Biden #BidenEmails #...   \n",
       "\n",
       "                       likes  retweet_count user_followers_count  \n",
       "tweet_id                                                          \n",
       "1.316529221557252e+18    0.0            0.0               1860.0  \n",
       "1.31652929585929e+18     0.0            0.0               6628.0  \n",
       "1.3165293050069524e+18   0.0            0.0               1536.0  \n",
       "1.3165293080815575e+18   0.0            0.0                 27.0  \n",
       "1.316529312741253e+18    1.0            0.0                390.0  "
      ]
     },
     "execution_count": 18,
     "metadata": {},
     "output_type": "execute_result"
    }
   ],
   "source": [
    "print(str(len(biden)+len(trump))+\" Total Tweets\")\n",
    "biden.head()"
   ]
  },
  {
   "cell_type": "markdown",
   "metadata": {},
   "source": [
    "## Performing Sentiment Analysis on Tweets"
   ]
  },
  {
   "cell_type": "code",
   "execution_count": 19,
   "metadata": {},
   "outputs": [],
   "source": [
    "import nltk.sentiment\n",
    "from nltk.sentiment import SentimentIntensityAnalyzer"
   ]
  },
  {
   "cell_type": "code",
   "execution_count": 20,
   "metadata": {},
   "outputs": [],
   "source": [
    "#Importing VADER and recording the compound score for each tweet\n",
    "vader = SentimentIntensityAnalyzer()\n",
    "sent = []\n",
    "for t in biden['tweet']:\n",
    "    sent.append(vader.polarity_scores(t)['compound'])\n",
    "biden['Sentiment'] = sent\n",
    "sent = []\n",
    "for t in trump['tweet']:\n",
    "    sent.append(vader.polarity_scores(t)['compound'])\n",
    "trump['Sentiment'] = sent"
   ]
  },
  {
   "cell_type": "code",
   "execution_count": 21,
   "metadata": {},
   "outputs": [],
   "source": [
    "biden['likes'] = pd.to_numeric(biden['likes'])\n",
    "biden['user_followers_count'] = pd.to_numeric(biden['user_followers_count'])\n",
    "trump['likes'] = pd.to_numeric(trump['likes'])\n",
    "trump['user_followers_count'] = pd.to_numeric(trump['user_followers_count'])"
   ]
  },
  {
   "cell_type": "code",
   "execution_count": 22,
   "metadata": {},
   "outputs": [],
   "source": [
    "#Multiplying the sentiment score by the structural features\n",
    "biden['Biden Agg Favorites'] = biden['likes'] * biden['Sentiment']\n",
    "biden['Biden Agg Retweets'] = biden['retweet_count'] * biden['Sentiment']\n",
    "biden['Biden Agg Followers'] = biden['user_followers_count'] * biden['Sentiment']\n",
    "trump['Trump Agg Favorites'] = trump['likes'] * trump['Sentiment']\n",
    "trump['Trump Agg Retweets'] = trump['retweet_count'] * trump['Sentiment']\n",
    "trump['Trump Agg Followers'] = trump['user_followers_count'] * trump['Sentiment']"
   ]
  },
  {
   "cell_type": "code",
   "execution_count": 23,
   "metadata": {},
   "outputs": [],
   "source": [
    "biden = biden[['created_at', 'Biden Agg Favorites', 'Biden Agg Retweets', 'Biden Agg Followers']]\n",
    "trump = trump[['created_at', 'Trump Agg Favorites', 'Trump Agg Retweets', 'Trump Agg Followers']]"
   ]
  },
  {
   "cell_type": "code",
   "execution_count": 24,
   "metadata": {},
   "outputs": [],
   "source": [
    "#Aggregating the features by the day\n",
    "biden = biden.set_index('created_at')\n",
    "biden = biden[biden.columns.to_list()].resample('D').mean()\n",
    "trump = trump.set_index('created_at')\n",
    "trump = trump[trump.columns.to_list()].resample('D').mean()"
   ]
  },
  {
   "cell_type": "code",
   "execution_count": 25,
   "metadata": {},
   "outputs": [
    {
     "data": {
      "text/html": [
       "<div>\n",
       "<style scoped>\n",
       "    .dataframe tbody tr th:only-of-type {\n",
       "        vertical-align: middle;\n",
       "    }\n",
       "\n",
       "    .dataframe tbody tr th {\n",
       "        vertical-align: top;\n",
       "    }\n",
       "\n",
       "    .dataframe thead th {\n",
       "        text-align: right;\n",
       "    }\n",
       "</style>\n",
       "<table border=\"1\" class=\"dataframe\">\n",
       "  <thead>\n",
       "    <tr style=\"text-align: right;\">\n",
       "      <th></th>\n",
       "      <th>Biden Agg Favorites</th>\n",
       "      <th>Biden Agg Retweets</th>\n",
       "      <th>Biden Agg Followers</th>\n",
       "    </tr>\n",
       "    <tr>\n",
       "      <th>created_at</th>\n",
       "      <th></th>\n",
       "      <th></th>\n",
       "      <th></th>\n",
       "    </tr>\n",
       "  </thead>\n",
       "  <tbody>\n",
       "    <tr>\n",
       "      <th>2020-10-15</th>\n",
       "      <td>5.941633</td>\n",
       "      <td>2.489461</td>\n",
       "      <td>266.497554</td>\n",
       "    </tr>\n",
       "    <tr>\n",
       "      <th>2020-10-16</th>\n",
       "      <td>12.017065</td>\n",
       "      <td>1.605517</td>\n",
       "      <td>-150.145627</td>\n",
       "    </tr>\n",
       "    <tr>\n",
       "      <th>2020-10-17</th>\n",
       "      <td>0.019888</td>\n",
       "      <td>0.000348</td>\n",
       "      <td>-143.544718</td>\n",
       "    </tr>\n",
       "    <tr>\n",
       "      <th>2020-10-18</th>\n",
       "      <td>-0.512274</td>\n",
       "      <td>-0.191605</td>\n",
       "      <td>638.397022</td>\n",
       "    </tr>\n",
       "    <tr>\n",
       "      <th>2020-10-19</th>\n",
       "      <td>-0.153568</td>\n",
       "      <td>-0.071789</td>\n",
       "      <td>934.004722</td>\n",
       "    </tr>\n",
       "  </tbody>\n",
       "</table>\n",
       "</div>"
      ],
      "text/plain": [
       "            Biden Agg Favorites  Biden Agg Retweets  Biden Agg Followers\n",
       "created_at                                                              \n",
       "2020-10-15             5.941633            2.489461           266.497554\n",
       "2020-10-16            12.017065            1.605517          -150.145627\n",
       "2020-10-17             0.019888            0.000348          -143.544718\n",
       "2020-10-18            -0.512274           -0.191605           638.397022\n",
       "2020-10-19            -0.153568           -0.071789           934.004722"
      ]
     },
     "execution_count": 25,
     "metadata": {},
     "output_type": "execute_result"
    }
   ],
   "source": [
    "biden.head()"
   ]
  },
  {
   "cell_type": "markdown",
   "metadata": {},
   "source": [
    "## Combining Datasets and EDA"
   ]
  },
  {
   "cell_type": "code",
   "execution_count": 221,
   "metadata": {},
   "outputs": [],
   "source": [
    "biden_agg = biden.join(tweets_b)\n",
    "trump_agg = trump.join(tweets_t)"
   ]
  },
  {
   "cell_type": "code",
   "execution_count": 222,
   "metadata": {},
   "outputs": [
    {
     "name": "stdout",
     "output_type": "stream",
     "text": [
      "Biden Agg Favorites  -->  Series is Non-Stationary\n",
      "Biden Agg Retweets  -->  Series is Stationary\n",
      "Biden Agg Followers  -->  Series is Non-Stationary\n",
      "Biden Re/Fo  -->  Series is Stationary\n",
      "Biden Fa/Fo  -->  Series is Non-Stationary\n",
      "Trump Agg Favorites  -->  Series is Non-Stationary\n",
      "Trump Agg Retweets  -->  Series is Non-Stationary\n",
      "Trump Agg Followers  -->  Series is Stationary\n",
      "Trump Re/Fo  -->  Series is Non-Stationary\n",
      "Trump Fa/Fo  -->  Series is Stationary\n"
     ]
    }
   ],
   "source": [
    "#Before combining the datasets we need to ensure the data is stationary so that we can perform timeseries analysis\n",
    "from statsmodels.tsa.stattools import adfuller\n",
    "\n",
    "def adf_test(ds):\n",
    "    dftest = adfuller(ds, autolag='AIC')\n",
    "    adf = pd.Series(dftest[0:4], index = ['Test Statistic','p-value','# Lags','# Observations'])\n",
    "    p = adf['p-value']\n",
    "    if p <= 0.05:\n",
    "        return \"Series is Stationary\"\n",
    "    else:\n",
    "        return \"Series is Non-Stationary\"\n",
    "\n",
    "for i in biden_agg.columns:\n",
    "    print(i, \" --> \", adf_test(biden_agg[i]))\n",
    "    \n",
    "for i in trump_agg.columns:\n",
    "    print(i, \" --> \", adf_test(trump_agg[i]))"
   ]
  },
  {
   "cell_type": "code",
   "execution_count": 223,
   "metadata": {},
   "outputs": [
    {
     "name": "stdout",
     "output_type": "stream",
     "text": [
      "Biden Agg Favorites  -->  Series is Stationary\n",
      "Biden Agg Retweets  -->  Series is Non-Stationary\n",
      "Biden Agg Followers  -->  Series is Stationary\n",
      "Biden Re/Fo  -->  Series is Non-Stationary\n",
      "Biden Fa/Fo  -->  Series is Stationary\n",
      "Trump Agg Favorites  -->  Series is Stationary\n",
      "Trump Agg Retweets  -->  Series is Stationary\n",
      "Trump Agg Followers  -->  Series is Stationary\n",
      "Trump Re/Fo  -->  Series is Stationary\n",
      "Trump Fa/Fo  -->  Series is Stationary\n"
     ]
    }
   ],
   "source": [
    "#Differencing to remove non-stationary and checking to see if it works\n",
    "biden_agg = biden_agg.diff().dropna()\n",
    "trump_agg = trump_agg.diff().dropna()\n",
    "\n",
    "for i in biden_agg.columns:\n",
    "    print(i, \" --> \", adf_test(biden_agg[i]))\n",
    "    \n",
    "for i in trump_agg.columns:\n",
    "    print(i, \" --> \", adf_test(trump_agg[i]))"
   ]
  },
  {
   "cell_type": "code",
   "execution_count": 224,
   "metadata": {},
   "outputs": [],
   "source": [
    "#Differencing once leads to 8/10 series being stationary\n",
    "#Not perfect but do not have enough data to make all series stationary (takes 8 times of differencing)\n",
    "shifted_rcp = rcp.shift(-1).rename(columns={'Biden':'Previous Biden', 'Trump':'Previous Trump'})"
   ]
  },
  {
   "cell_type": "code",
   "execution_count": 225,
   "metadata": {},
   "outputs": [],
   "source": [
    "biden_agg = biden_agg.join(shifted_rcp[['Previous Biden']]).join(rcp[['Biden']])\n",
    "trump_agg = trump_agg.join(shifted_rcp[['Previous Trump']]).join(rcp[['Trump']])"
   ]
  },
  {
   "cell_type": "code",
   "execution_count": 226,
   "metadata": {
    "scrolled": true
   },
   "outputs": [
    {
     "data": {
      "text/html": [
       "<div>\n",
       "<style scoped>\n",
       "    .dataframe tbody tr th:only-of-type {\n",
       "        vertical-align: middle;\n",
       "    }\n",
       "\n",
       "    .dataframe tbody tr th {\n",
       "        vertical-align: top;\n",
       "    }\n",
       "\n",
       "    .dataframe thead th {\n",
       "        text-align: right;\n",
       "    }\n",
       "</style>\n",
       "<table border=\"1\" class=\"dataframe\">\n",
       "  <thead>\n",
       "    <tr style=\"text-align: right;\">\n",
       "      <th></th>\n",
       "      <th>Biden Agg Favorites</th>\n",
       "      <th>Biden Agg Retweets</th>\n",
       "      <th>Biden Agg Followers</th>\n",
       "      <th>Biden Re/Fo</th>\n",
       "      <th>Biden Fa/Fo</th>\n",
       "      <th>Previous Biden</th>\n",
       "      <th>Biden</th>\n",
       "    </tr>\n",
       "    <tr>\n",
       "      <th>created_at</th>\n",
       "      <th></th>\n",
       "      <th></th>\n",
       "      <th></th>\n",
       "      <th></th>\n",
       "      <th></th>\n",
       "      <th></th>\n",
       "      <th></th>\n",
       "    </tr>\n",
       "  </thead>\n",
       "  <tbody>\n",
       "    <tr>\n",
       "      <th>2020-10-16</th>\n",
       "      <td>6.075432</td>\n",
       "      <td>-0.883943</td>\n",
       "      <td>-416.643181</td>\n",
       "      <td>0.000006</td>\n",
       "      <td>0.000069</td>\n",
       "      <td>51.7</td>\n",
       "      <td>51.2</td>\n",
       "    </tr>\n",
       "    <tr>\n",
       "      <th>2020-10-17</th>\n",
       "      <td>-11.997177</td>\n",
       "      <td>-1.605169</td>\n",
       "      <td>6.600909</td>\n",
       "      <td>0.000174</td>\n",
       "      <td>-0.000176</td>\n",
       "      <td>51.2</td>\n",
       "      <td>51.3</td>\n",
       "    </tr>\n",
       "    <tr>\n",
       "      <th>2020-10-18</th>\n",
       "      <td>-0.532162</td>\n",
       "      <td>-0.191953</td>\n",
       "      <td>781.941740</td>\n",
       "      <td>-0.000191</td>\n",
       "      <td>-0.000577</td>\n",
       "      <td>51.3</td>\n",
       "      <td>51.3</td>\n",
       "    </tr>\n",
       "    <tr>\n",
       "      <th>2020-10-19</th>\n",
       "      <td>0.358707</td>\n",
       "      <td>0.119817</td>\n",
       "      <td>295.607700</td>\n",
       "      <td>0.001870</td>\n",
       "      <td>0.013707</td>\n",
       "      <td>51.3</td>\n",
       "      <td>51.3</td>\n",
       "    </tr>\n",
       "    <tr>\n",
       "      <th>2020-10-20</th>\n",
       "      <td>0.687242</td>\n",
       "      <td>0.297876</td>\n",
       "      <td>-1223.989339</td>\n",
       "      <td>-0.001564</td>\n",
       "      <td>-0.010134</td>\n",
       "      <td>51.3</td>\n",
       "      <td>51.1</td>\n",
       "    </tr>\n",
       "  </tbody>\n",
       "</table>\n",
       "</div>"
      ],
      "text/plain": [
       "            Biden Agg Favorites  Biden Agg Retweets  Biden Agg Followers  \\\n",
       "created_at                                                                 \n",
       "2020-10-16             6.075432           -0.883943          -416.643181   \n",
       "2020-10-17           -11.997177           -1.605169             6.600909   \n",
       "2020-10-18            -0.532162           -0.191953           781.941740   \n",
       "2020-10-19             0.358707            0.119817           295.607700   \n",
       "2020-10-20             0.687242            0.297876         -1223.989339   \n",
       "\n",
       "            Biden Re/Fo  Biden Fa/Fo  Previous Biden  Biden  \n",
       "created_at                                                   \n",
       "2020-10-16     0.000006     0.000069            51.7   51.2  \n",
       "2020-10-17     0.000174    -0.000176            51.2   51.3  \n",
       "2020-10-18    -0.000191    -0.000577            51.3   51.3  \n",
       "2020-10-19     0.001870     0.013707            51.3   51.3  \n",
       "2020-10-20    -0.001564    -0.010134            51.3   51.1  "
      ]
     },
     "execution_count": 226,
     "metadata": {},
     "output_type": "execute_result"
    }
   ],
   "source": [
    "biden_agg.head()"
   ]
  },
  {
   "cell_type": "code",
   "execution_count": 188,
   "metadata": {},
   "outputs": [
    {
     "data": {
      "image/png": "[encoded data removed]",
      "text/plain": [
       "<Figure size 1260x1260 with 56 Axes>"
      ]
     },
     "metadata": {
      "needs_background": "light"
     },
     "output_type": "display_data"
    }
   ],
   "source": [
    "#EDA to see some of the relations in the data\n",
    "fig = sns.pairplot(biden_agg,  plot_kws=dict(marker=\"o\", alpha = 0.5))\n",
    "for i, j in zip(*np.triu_indices_from(fig.axes, 1)):\n",
    "    fig.axes[i, j].set_visible(False)\n",
    "plt.show()"
   ]
  },
  {
   "cell_type": "code",
   "execution_count": 189,
   "metadata": {},
   "outputs": [
    {
     "data": {
      "image/png": "[encoded data removed]",
      "text/plain": [
       "<Figure size 1260x1260 with 56 Axes>"
      ]
     },
     "metadata": {
      "needs_background": "light"
     },
     "output_type": "display_data"
    }
   ],
   "source": [
    "fig = sns.pairplot(trump_agg,  plot_kws=dict(marker=\"o\", alpha = 0.5))\n",
    "for i, j in zip(*np.triu_indices_from(fig.axes, 1)):\n",
    "    fig.axes[i, j].set_visible(False)\n",
    "plt.show()"
   ]
  },
  {
   "cell_type": "markdown",
   "metadata": {},
   "source": [
    "## Modeling the Difference Between Canididates' Vote Share"
   ]
  },
  {
   "cell_type": "code",
   "execution_count": 232,
   "metadata": {},
   "outputs": [],
   "source": [
    "# ~80%/20% training/test set split (15 days for training, 4 for evaluation)\n",
    "X_train_b = biden_agg[:15].drop(['Biden'], axis = 1)\n",
    "y_train_b = biden_agg[:15]['Biden']\n",
    "\n",
    "X_test_b = biden_agg[15:].drop(['Biden'], axis = 1)\n",
    "y_test_b = biden_agg[15:]['Biden']\n",
    "\n",
    "X_train_t = trump_agg[:15].drop(['Trump'], axis = 1)\n",
    "y_train_t = trump_agg[:15]['Trump']\n",
    "\n",
    "X_test_t = trump_agg[15:].drop(['Trump'], axis = 1)\n",
    "y_test_t = trump_agg[15:]['Trump']"
   ]
  },
  {
   "cell_type": "code",
   "execution_count": 233,
   "metadata": {},
   "outputs": [],
   "source": [
    "#Method to output the MAE (mean average error) to find vote share and R^2\n",
    "#R^2 is the correlation against preelectoral polls\n",
    "import sklearn.metrics as metrics\n",
    "def regression_results(b_true, b_pred, t_true, t_pred):\n",
    "    biden_r2 = metrics.r2_score(b_true, b_pred)\n",
    "    trump_r2 = metrics.r2_score(t_true, t_pred)\n",
    "    print('R^2: ', round((biden_r2 + trump_r2)/2, 2))\n",
    "    mae = round(abs(b_pred[-1][0] - 51.3) + abs(t_pred[-1][0] - 46.8), 2) / 2\n",
    "    print('MAE: ', mae)"
   ]
  },
  {
   "cell_type": "code",
   "execution_count": 241,
   "metadata": {},
   "outputs": [],
   "source": [
    "#Creating training and validation sets (~80/20 split)\n",
    "X_t_b = X_train_b[:12].copy()\n",
    "y_t_b = y_train_b[:12].copy()\n",
    "\n",
    "X_v_b = X_train_b[12:].copy()\n",
    "y_v_b = y_train_b[12:].copy()\n",
    "\n",
    "X_t_t = X_train_t[:12].copy()\n",
    "y_t_t = y_train_t[:12].copy()\n",
    "\n",
    "X_v_t = X_train_t[12:].copy()\n",
    "y_v_t = y_train_t[12:].copy()"
   ]
  },
  {
   "cell_type": "code",
   "execution_count": 242,
   "metadata": {},
   "outputs": [
    {
     "name": "stdout",
     "output_type": "stream",
     "text": [
      "Lasso:\n",
      "R^2:  -60.08\n",
      "MAE:  2.23\n",
      "Elastic:\n",
      "R^2:  -59.98\n",
      "MAE:  2.23\n",
      "Ridge Regression:\n",
      "R^2:  -38.04\n",
      "MAE:  2.22\n",
      "SVR Linear:\n",
      "R^2:  -13.44\n",
      "MAE:  2.025\n",
      "SVR RBF:\n",
      "R^2:  -53.85\n",
      "MAE:  2.135\n",
      "Random Forest:\n",
      "R^2:  -48.37\n",
      "MAE:  2.255\n"
     ]
    }
   ],
   "source": [
    "#Figuring out which model to use\n",
    "from sklearn.linear_model import Lasso\n",
    "from sklearn.linear_model import ElasticNet\n",
    "from sklearn.linear_model import Ridge\n",
    "from sklearn.svm import SVR\n",
    "from sklearn.ensemble import RandomForestRegressor\n",
    "\n",
    "models = []\n",
    "#Good for a few important features\n",
    "models.append(('Lasso', (Lasso(), Lasso())))\n",
    "models.append(('Elastic', (ElasticNet(), ElasticNet())))\n",
    "\n",
    "#Good for predicting from all features\n",
    "models.append(('Ridge Regression', (Ridge(), Ridge())))\n",
    "models.append(('SVR Linear', (SVR(kernel='linear'), SVR(kernel='linear'))))\n",
    "\n",
    "#Other useful methods\n",
    "models.append(('SVR RBF', (SVR(kernel='rbf'), SVR(kernel='rbf'))))\n",
    "models.append(('Random Forest', (RandomForestRegressor(), RandomForestRegressor())))\n",
    "\n",
    "predictions = []\n",
    "#Evaluating each model\n",
    "for name, model in models:\n",
    "    \n",
    "    model_b = model[0]\n",
    "    model_t = model[1]\n",
    "    model_b.fit(X_t_b, y_t_b)\n",
    "    model_t.fit(X_t_t, y_t_t)\n",
    "    \n",
    "    #Predicting the polling value day-by-day so it can be included in the model\n",
    "    b_pred = []\n",
    "    t_pred = []\n",
    "    prev_poll_b = y_t_b[-1]\n",
    "    prev_poll_t = y_t_t[-1]\n",
    "    for day in X_v_b.index:\n",
    "        X_v_b.loc[day:day+pd.Timedelta(\"1 hour\"), 'Previous Biden'] = prev_poll_b\n",
    "        prev_poll_b = model_b.predict(X_v_b.loc[day:day+pd.Timedelta(\"1 hour\"), :])\n",
    "        b_pred.append(prev_poll_b)\n",
    "    \n",
    "        X_v_t.loc[day:day+pd.Timedelta(\"1 hour\"), 'Previous Trump'] = prev_poll_t\n",
    "        prev_poll_t = model_t.predict(X_v_t.loc[day:day+pd.Timedelta(\"1 hour\"), :])\n",
    "        t_pred.append(prev_poll_t)\n",
    "        \n",
    "    predictions.append((b_pred, t_pred))\n",
    "    print('%s:' % (name))\n",
    "    regression_results(y_v_b, b_pred, y_v_t, t_pred);"
   ]
  },
  {
   "cell_type": "code",
   "execution_count": 244,
   "metadata": {},
   "outputs": [
    {
     "name": "stdout",
     "output_type": "stream",
     "text": [
      "Final Model Results:\n",
      "R^2:  -3.13\n",
      "MAE:  1.85\n",
      "Biden Vote Share: Predicted- 50.9 Actual- 51.3\n",
      "Trump Vote Share: Predicted- 43.5 Actual- 46.8\n",
      "Polling MAE:  1.5\n"
     ]
    }
   ],
   "source": [
    "model_b = SVR(kernel='linear')\n",
    "model_t = SVR(kernel='linear')\n",
    "model_b.fit(X_train_b, y_train_b)\n",
    "model_t.fit(X_train_t, y_train_t)\n",
    "    \n",
    "#Predicting the polling value day-by-day so it can be included in the model\n",
    "b_pred = []\n",
    "t_pred = []\n",
    "prev_poll_b = y_train_b[-1]\n",
    "prev_poll_t = y_train_t[-1]\n",
    "for day in X_test_b.index:\n",
    "    X_test_b.loc[day:day+pd.Timedelta(\"1 hour\"), 'Previous Biden'] = prev_poll_b\n",
    "    prev_poll_b = model_b.predict(X_test_b.loc[day:day+pd.Timedelta(\"1 hour\"), :])\n",
    "    b_pred.append(prev_poll_b)\n",
    "    \n",
    "    X_test_t.loc[day:day+pd.Timedelta(\"1 hour\"), 'Previous Trump'] = prev_poll_t\n",
    "    prev_poll_t = model_t.predict(X_test_t.loc[day:day+pd.Timedelta(\"1 hour\"), :])\n",
    "    t_pred.append(prev_poll_t)\n",
    "        \n",
    "print('Final Model Results:')\n",
    "regression_results(y_test_b, b_pred, y_test_t, t_pred)\n",
    "print('Biden Vote Share: Predicted-', round(b_pred[-1][0], 1), 'Actual- 51.3')\n",
    "print('Trump Vote Share: Predicted-', round(t_pred[-1][0], 1), 'Actual- 46.8')\n",
    "print('Polling MAE: ', round(abs(y_test_b[-1] - 51.3) + abs(y_test_t[-1] - 46.8) / 2, 2))"
   ]
  },
  {
   "cell_type": "code",
   "execution_count": 282,
   "metadata": {
    "scrolled": true
   },
   "outputs": [
    {
     "data": {
      "image/png": "[encoded data removed]",
      "text/plain": [
       "<Figure size 640x320 with 1 Axes>"
      ]
     },
     "metadata": {
      "needs_background": "light"
     },
     "output_type": "display_data"
    }
   ],
   "source": [
    "from matplotlib.pyplot import figure\n",
    "figure(figsize=(8, 4), dpi=80)\n",
    "plt.plot(biden_agg['Biden'], label='Aggregate Polling')\n",
    "plt.plot(y_test_b.index, b_pred, label='Predicted Vote Share')\n",
    "plt.xlabel('Date')\n",
    "plt.ylabel('Vote Share')\n",
    "xticks = ['2020/10/16', '2020/10/19', '2020/10/22', '2020/10/25', '2020/10/28', '2020/10/31', '2020/11/03']\n",
    "plt.xticks(pd.to_datetime(xticks))\n",
    "plt.ylim([50, 52])\n",
    "plt.title('Biden Predicted Vote Share vs Aggregate Polling')\n",
    "plt.legend();"
   ]
  },
  {
   "cell_type": "code",
   "execution_count": 287,
   "metadata": {},
   "outputs": [
    {
     "data": {
      "image/png": "[encoded data removed]",
      "text/plain": [
       "<Figure size 640x320 with 1 Axes>"
      ]
     },
     "metadata": {
      "needs_background": "light"
     },
     "output_type": "display_data"
    }
   ],
   "source": [
    "figure(figsize=(8, 4), dpi=80)\n",
    "plt.plot(trump_agg['Trump'], label='Aggregate Polling')\n",
    "plt.plot(y_test_t.index, t_pred, label='Predicted Vote Share')\n",
    "plt.xlabel('Date')\n",
    "plt.ylabel('Vote Share')\n",
    "xticks = ['2020/10/16', '2020/10/19', '2020/10/22', '2020/10/25', '2020/10/28', '2020/10/31', '2020/11/03']\n",
    "plt.xticks(pd.to_datetime(xticks))\n",
    "plt.ylim([41, 45])\n",
    "plt.title('Trump Predicted Vote Share vs Aggregate Polling')\n",
    "plt.legend();"
   ]
  }
 ],
 "metadata": {
  "kernelspec": {
   "display_name": "Python 3",
   "language": "python",
   "name": "python3"
  },
  "language_info": {
   "codemirror_mode": {
    "name": "ipython",
    "version": 3
   },
   "file_extension": ".py",
   "mimetype": "text/x-python",
   "name": "python",
   "nbconvert_exporter": "python",
   "pygments_lexer": "ipython3",
   "version": "3.8.3"
  }
 },
 "nbformat": 4,
 "nbformat_minor": 4
}
